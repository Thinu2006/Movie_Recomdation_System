{
 "cells": [
  {
   "cell_type": "markdown",
   "id": "6952df7e-373b-4f9b-b1e8-0ec8977fa67f",
   "metadata": {},
   "source": [
    "# Movie Recommendation System"
   ]
  },
  {
   "cell_type": "markdown",
   "id": "3d540235-8e60-417d-9f80-e6b2f8410043",
   "metadata": {},
   "source": [
    "## 01. Overview:\n",
    "This report outlines the development of a Movie Recommendation System utilizing user-based collaborative filtering and item-based similarity calculations using Pearson correlation. The system aims to predict movie recommendations based on user input, leveraging a dataset comprising user ratings and movie metadata."
   ]
  },
  {
   "cell_type": "markdown",
   "id": "1e722cfb-a272-4608-a847-edcb684524a0",
   "metadata": {},
   "source": [
    "## 02. Objectives:\n",
    "The main objectives of this project are:\n",
    "  1. To implement a collaborative filtering technique that recommends movies based on user preferences.\n",
    "  2. To calculate item-based similarity using Pearson correlation.\n",
    "  3. To provide a user-friendly interface that allows users to obtain movie recommendations based on the movies they have watched."
   ]
  },
  {
   "cell_type": "markdown",
   "id": "195b427f-ae5e-409c-a595-0cf379a2ff9b",
   "metadata": {},
   "source": [
    "## 03. Data Collection:\n",
    "The project utilizes two primary datasets:\n",
    "* Ratings Dataset: Contains user ratings for movies, including user IDs, movie IDs, and ratings.\n",
    "* Movies Metadata Dataset: Contains metadata for movies, including movie IDs, titles, and genres.\n",
    "\n",
    "Link : https://www.kaggle.com/datasets/rounakbanik/the-movies-dataset/"
   ]
  },
  {
   "cell_type": "code",
   "execution_count": 5,
   "id": "a3c88dbd-52ac-49c4-ab5a-575e2d549c6c",
   "metadata": {},
   "outputs": [],
   "source": [
    "#Import the Required Packages\n",
    "import os\n",
    "import numpy as np\n",
    "import pandas as pd\n",
    "import matplotlib.pyplot as plt"
   ]
  },
  {
   "cell_type": "code",
   "execution_count": 61,
   "id": "9809a2a9-868a-48cb-8ee2-41a7201a6f67",
   "metadata": {},
   "outputs": [
    {
     "name": "stderr",
     "output_type": "stream",
     "text": [
      "C:\\Users\\DELL\\AppData\\Local\\Temp\\ipykernel_6036\\903803929.py:3: DtypeWarning: Columns (10) have mixed types. Specify dtype option on import or set low_memory=False.\n",
      "  movie_metadata= pd.read_csv(\"movies_data.csv\")\n"
     ]
    }
   ],
   "source": [
    "# Load datasets\n",
    "user_ratings = pd.read_csv(\"ratings.csv\")\n",
    "movie_metadata= pd.read_csv(\"movies_data.csv\")"
   ]
  },
  {
   "cell_type": "markdown",
   "id": "93a20d23-42d0-48be-b0cf-5491c1fc35b1",
   "metadata": {},
   "source": [
    "## 04. Data Cleaning and Transformation:\n",
    "The following steps were taken to clean and prepare the datasets for analysis:\n",
    "\n",
    "1. **Loading the Datasets:** The datasets were loaded into a data processing tool.\n",
    "2. **Selecting Relevant Columns:** From the movies metadata, only essential columns (movie ID, title, and genres) were retained. The timestamp column from the ratings dataset was dropped for simplicity.\n",
    "3. **Handling Missing Values:** The datasets were checked for any missing values to ensure data integrity and completeness.\n",
    "4. **Column Renaming and Type Consistency:** The `id` column in the movies dataset was renamed to `movieId` to align with the ratings dataset, and both datasets had their `movieId` columns converted to a consistent data type.\n",
    "5. **Duplicate Checks:** The movies dataset was scanned for duplicate entries to maintain a clean and accurate dataset.\n",
    "6. **Merging Datasets:** The cleaned ratings and movies datasets were merged on the movieId column, creating a comprehensive dataset for further analysis.\n"
   ]
  },
  {
   "cell_type": "code",
   "execution_count": 8,
   "id": "431fb5ec-9c62-4077-9acb-f6f026eba6c0",
   "metadata": {},
   "outputs": [
    {
     "data": {
      "text/html": [
       "<div>\n",
       "<style scoped>\n",
       "    .dataframe tbody tr th:only-of-type {\n",
       "        vertical-align: middle;\n",
       "    }\n",
       "\n",
       "    .dataframe tbody tr th {\n",
       "        vertical-align: top;\n",
       "    }\n",
       "\n",
       "    .dataframe thead th {\n",
       "        text-align: right;\n",
       "    }\n",
       "</style>\n",
       "<table border=\"1\" class=\"dataframe\">\n",
       "  <thead>\n",
       "    <tr style=\"text-align: right;\">\n",
       "      <th></th>\n",
       "      <th>id</th>\n",
       "      <th>title</th>\n",
       "      <th>genres</th>\n",
       "    </tr>\n",
       "  </thead>\n",
       "  <tbody>\n",
       "    <tr>\n",
       "      <th>0</th>\n",
       "      <td>862</td>\n",
       "      <td>Toy Story</td>\n",
       "      <td>[{'id': 16, 'name': 'Animation'}, {'id': 35, '...</td>\n",
       "    </tr>\n",
       "    <tr>\n",
       "      <th>1</th>\n",
       "      <td>8844</td>\n",
       "      <td>Jumanji</td>\n",
       "      <td>[{'id': 12, 'name': 'Adventure'}, {'id': 14, '...</td>\n",
       "    </tr>\n",
       "    <tr>\n",
       "      <th>2</th>\n",
       "      <td>15602</td>\n",
       "      <td>Grumpier Old Men</td>\n",
       "      <td>[{'id': 10749, 'name': 'Romance'}, {'id': 35, ...</td>\n",
       "    </tr>\n",
       "    <tr>\n",
       "      <th>3</th>\n",
       "      <td>31357</td>\n",
       "      <td>Waiting to Exhale</td>\n",
       "      <td>[{'id': 35, 'name': 'Comedy'}, {'id': 18, 'nam...</td>\n",
       "    </tr>\n",
       "    <tr>\n",
       "      <th>4</th>\n",
       "      <td>11862</td>\n",
       "      <td>Father of the Bride Part II</td>\n",
       "      <td>[{'id': 35, 'name': 'Comedy'}]</td>\n",
       "    </tr>\n",
       "  </tbody>\n",
       "</table>\n",
       "</div>"
      ],
      "text/plain": [
       "      id                        title  \\\n",
       "0    862                    Toy Story   \n",
       "1   8844                      Jumanji   \n",
       "2  15602             Grumpier Old Men   \n",
       "3  31357            Waiting to Exhale   \n",
       "4  11862  Father of the Bride Part II   \n",
       "\n",
       "                                              genres  \n",
       "0  [{'id': 16, 'name': 'Animation'}, {'id': 35, '...  \n",
       "1  [{'id': 12, 'name': 'Adventure'}, {'id': 14, '...  \n",
       "2  [{'id': 10749, 'name': 'Romance'}, {'id': 35, ...  \n",
       "3  [{'id': 35, 'name': 'Comedy'}, {'id': 18, 'nam...  \n",
       "4                     [{'id': 35, 'name': 'Comedy'}]  "
      ]
     },
     "execution_count": 8,
     "metadata": {},
     "output_type": "execute_result"
    }
   ],
   "source": [
    "#Keeping only MovieID, Movie Title and Genres\n",
    "movies_df = movie_metadata[['id','title', 'genres']]\n",
    "movies_df.head()"
   ]
  },
  {
   "cell_type": "code",
   "execution_count": 9,
   "id": "47dfa69d-6e03-4930-8b44-2f816bb00f1a",
   "metadata": {},
   "outputs": [
    {
     "data": {
      "text/html": [
       "<div>\n",
       "<style scoped>\n",
       "    .dataframe tbody tr th:only-of-type {\n",
       "        vertical-align: middle;\n",
       "    }\n",
       "\n",
       "    .dataframe tbody tr th {\n",
       "        vertical-align: top;\n",
       "    }\n",
       "\n",
       "    .dataframe thead th {\n",
       "        text-align: right;\n",
       "    }\n",
       "</style>\n",
       "<table border=\"1\" class=\"dataframe\">\n",
       "  <thead>\n",
       "    <tr style=\"text-align: right;\">\n",
       "      <th></th>\n",
       "      <th>userId</th>\n",
       "      <th>movieId</th>\n",
       "      <th>rating</th>\n",
       "    </tr>\n",
       "  </thead>\n",
       "  <tbody>\n",
       "    <tr>\n",
       "      <th>0</th>\n",
       "      <td>1</td>\n",
       "      <td>16</td>\n",
       "      <td>4.0</td>\n",
       "    </tr>\n",
       "    <tr>\n",
       "      <th>1</th>\n",
       "      <td>1</td>\n",
       "      <td>24</td>\n",
       "      <td>1.5</td>\n",
       "    </tr>\n",
       "    <tr>\n",
       "      <th>2</th>\n",
       "      <td>1</td>\n",
       "      <td>32</td>\n",
       "      <td>4.0</td>\n",
       "    </tr>\n",
       "    <tr>\n",
       "      <th>3</th>\n",
       "      <td>1</td>\n",
       "      <td>47</td>\n",
       "      <td>4.0</td>\n",
       "    </tr>\n",
       "    <tr>\n",
       "      <th>4</th>\n",
       "      <td>1</td>\n",
       "      <td>50</td>\n",
       "      <td>4.0</td>\n",
       "    </tr>\n",
       "  </tbody>\n",
       "</table>\n",
       "</div>"
      ],
      "text/plain": [
       "   userId  movieId  rating\n",
       "0       1       16     4.0\n",
       "1       1       24     1.5\n",
       "2       1       32     4.0\n",
       "3       1       47     4.0\n",
       "4       1       50     4.0"
      ]
     },
     "execution_count": 9,
     "metadata": {},
     "output_type": "execute_result"
    }
   ],
   "source": [
    "# Dropping the timestamp colunm from the datasets\n",
    "ratings_df = user_ratings.drop('timestamp', axis=1)\n",
    "ratings_df.head()"
   ]
  },
  {
   "cell_type": "code",
   "execution_count": 10,
   "id": "00857bfc-1663-4ee6-af9f-2bfc51c9b3c5",
   "metadata": {},
   "outputs": [
    {
     "data": {
      "text/plain": [
       "(42228, 3)"
      ]
     },
     "execution_count": 10,
     "metadata": {},
     "output_type": "execute_result"
    }
   ],
   "source": [
    "# Check the shape of the dataset\n",
    "ratings_df.shape\n",
    "movies_df.shape"
   ]
  },
  {
   "cell_type": "code",
   "execution_count": 11,
   "id": "1047537b-2b4f-4539-aa87-39099e01a845",
   "metadata": {},
   "outputs": [
    {
     "name": "stdout",
     "output_type": "stream",
     "text": [
      "<class 'pandas.core.frame.DataFrame'>\n",
      "RangeIndex: 105339 entries, 0 to 105338\n",
      "Data columns (total 3 columns):\n",
      " #   Column   Non-Null Count   Dtype  \n",
      "---  ------   --------------   -----  \n",
      " 0   userId   105339 non-null  int64  \n",
      " 1   movieId  105339 non-null  int64  \n",
      " 2   rating   105339 non-null  float64\n",
      "dtypes: float64(1), int64(2)\n",
      "memory usage: 2.4 MB\n",
      "<class 'pandas.core.frame.DataFrame'>\n",
      "RangeIndex: 42228 entries, 0 to 42227\n",
      "Data columns (total 3 columns):\n",
      " #   Column  Non-Null Count  Dtype \n",
      "---  ------  --------------  ----- \n",
      " 0   id      42228 non-null  object\n",
      " 1   title   42228 non-null  object\n",
      " 2   genres  42228 non-null  object\n",
      "dtypes: object(3)\n",
      "memory usage: 989.8+ KB\n"
     ]
    }
   ],
   "source": [
    "# Get summary infomation\n",
    "ratings_df.info()\n",
    "movies_df.info()"
   ]
  },
  {
   "cell_type": "code",
   "execution_count": 12,
   "id": "525dc098-cd10-43fe-a3d5-8a3cda9b38ca",
   "metadata": {},
   "outputs": [
    {
     "name": "stdout",
     "output_type": "stream",
     "text": [
      "userId     0\n",
      "movieId    0\n",
      "rating     0\n",
      "dtype: int64\n",
      "id        0\n",
      "title     0\n",
      "genres    0\n",
      "dtype: int64\n"
     ]
    }
   ],
   "source": [
    "# Check for missing values\n",
    "print(ratings_df.isnull().sum())\n",
    "print(movies_df.isnull().sum())"
   ]
  },
  {
   "cell_type": "code",
   "execution_count": 13,
   "id": "2437910c-f7d8-4ac3-9d6c-98b46870a153",
   "metadata": {},
   "outputs": [
    {
     "name": "stdout",
     "output_type": "stream",
     "text": [
      "Index(['id', 'title', 'genres'], dtype='object')\n",
      "Index(['userId', 'movieId', 'rating'], dtype='object')\n"
     ]
    }
   ],
   "source": [
    "print(movies_df.columns)\n",
    "print(ratings_df.columns)"
   ]
  },
  {
   "cell_type": "code",
   "execution_count": 14,
   "id": "417c137a-fec5-4481-a613-7b2d0d856485",
   "metadata": {},
   "outputs": [
    {
     "name": "stdout",
     "output_type": "stream",
     "text": [
      "Index(['movieId', 'title', 'genres'], dtype='object')\n"
     ]
    }
   ],
   "source": [
    "#Rename movie_metadata dataset id column to movieId\n",
    "movies_df = movies_df.rename(columns={'id': 'movieId'})\n",
    "print(movies_df.columns)"
   ]
  },
  {
   "cell_type": "code",
   "execution_count": 15,
   "id": "851fc7a4-4b45-45eb-8cff-daf5c0cffa20",
   "metadata": {},
   "outputs": [
    {
     "name": "stdout",
     "output_type": "stream",
     "text": [
      "<class 'pandas.core.frame.DataFrame'>\n",
      "RangeIndex: 105339 entries, 0 to 105338\n",
      "Data columns (total 3 columns):\n",
      " #   Column   Non-Null Count   Dtype  \n",
      "---  ------   --------------   -----  \n",
      " 0   userId   105339 non-null  int64  \n",
      " 1   movieId  105339 non-null  object \n",
      " 2   rating   105339 non-null  float64\n",
      "dtypes: float64(1), int64(1), object(1)\n",
      "memory usage: 2.4+ MB\n",
      "<class 'pandas.core.frame.DataFrame'>\n",
      "RangeIndex: 42228 entries, 0 to 42227\n",
      "Data columns (total 3 columns):\n",
      " #   Column   Non-Null Count  Dtype \n",
      "---  ------   --------------  ----- \n",
      " 0   movieId  42228 non-null  object\n",
      " 1   title    42228 non-null  object\n",
      " 2   genres   42228 non-null  object\n",
      "dtypes: object(3)\n",
      "memory usage: 989.8+ KB\n"
     ]
    }
   ],
   "source": [
    "# Convert both dataset movieId columns to same string type\n",
    "ratings_df['movieId'] = ratings_df['movieId'].astype(str)\n",
    "movies_df['movieId'] = movies_df['movieId'].astype(str)\n",
    "\n",
    "ratings_df.info()\n",
    "movies_df.info()"
   ]
  },
  {
   "cell_type": "code",
   "execution_count": 16,
   "id": "738bf0ac-10bc-4a48-94f3-ca134c488294",
   "metadata": {},
   "outputs": [
    {
     "name": "stdout",
     "output_type": "stream",
     "text": [
      "Duplicate entries in movies dataset:\n",
      "Empty DataFrame\n",
      "Columns: [movieId, title, genres]\n",
      "Index: []\n"
     ]
    }
   ],
   "source": [
    "# Check for duplicates in movies dataset\n",
    "duplicates_movies = movies_df[movies_df.duplicated(keep=False)]\n",
    "print(\"Duplicate entries in movies dataset:\")\n",
    "print(duplicates_movies)"
   ]
  },
  {
   "cell_type": "code",
   "execution_count": 17,
   "id": "3ddf99dc-bf84-43bd-9d3c-c137d7fab99d",
   "metadata": {},
   "outputs": [
    {
     "name": "stdout",
     "output_type": "stream",
     "text": [
      "Duplicate entries in ratings dataset:\n",
      "Empty DataFrame\n",
      "Columns: [userId, movieId, rating]\n",
      "Index: []\n"
     ]
    }
   ],
   "source": [
    "# Check for duplicates in rating dataset\n",
    "duplicates_ratings = ratings_df[ratings_df.duplicated(keep=False)]\n",
    "print(\"Duplicate entries in ratings dataset:\")\n",
    "print(duplicates_ratings)"
   ]
  },
  {
   "cell_type": "code",
   "execution_count": 18,
   "id": "5bae66b8-49cb-44c0-b835-27b3a1f91cd3",
   "metadata": {},
   "outputs": [
    {
     "data": {
      "text/html": [
       "<div>\n",
       "<style scoped>\n",
       "    .dataframe tbody tr th:only-of-type {\n",
       "        vertical-align: middle;\n",
       "    }\n",
       "\n",
       "    .dataframe tbody tr th {\n",
       "        vertical-align: top;\n",
       "    }\n",
       "\n",
       "    .dataframe thead th {\n",
       "        text-align: right;\n",
       "    }\n",
       "</style>\n",
       "<table border=\"1\" class=\"dataframe\">\n",
       "  <thead>\n",
       "    <tr style=\"text-align: right;\">\n",
       "      <th></th>\n",
       "      <th>userId</th>\n",
       "      <th>movieId</th>\n",
       "      <th>rating</th>\n",
       "      <th>title</th>\n",
       "      <th>genres</th>\n",
       "    </tr>\n",
       "  </thead>\n",
       "  <tbody>\n",
       "    <tr>\n",
       "      <th>0</th>\n",
       "      <td>1</td>\n",
       "      <td>16</td>\n",
       "      <td>4.0</td>\n",
       "      <td>The Contender</td>\n",
       "      <td>[{'id': 18, 'name': 'Drama'}, {'id': 80, 'name...</td>\n",
       "    </tr>\n",
       "    <tr>\n",
       "      <th>1</th>\n",
       "      <td>1</td>\n",
       "      <td>24</td>\n",
       "      <td>1.5</td>\n",
       "      <td>Forbidden Games</td>\n",
       "      <td>[{'id': 28, 'name': 'Action'}, {'id': 80, 'nam...</td>\n",
       "    </tr>\n",
       "    <tr>\n",
       "      <th>2</th>\n",
       "      <td>1</td>\n",
       "      <td>110</td>\n",
       "      <td>4.0</td>\n",
       "      <td>Three Colors: Red</td>\n",
       "      <td>[{'id': 18, 'name': 'Drama'}, {'id': 9648, 'na...</td>\n",
       "    </tr>\n",
       "    <tr>\n",
       "      <th>3</th>\n",
       "      <td>1</td>\n",
       "      <td>150</td>\n",
       "      <td>3.0</td>\n",
       "      <td>Super Troopers</td>\n",
       "      <td>[{'id': 53, 'name': 'Thriller'}, {'id': 28, 'n...</td>\n",
       "    </tr>\n",
       "    <tr>\n",
       "      <th>4</th>\n",
       "      <td>1</td>\n",
       "      <td>161</td>\n",
       "      <td>4.0</td>\n",
       "      <td>Murder by Death</td>\n",
       "      <td>[{'id': 53, 'name': 'Thriller'}, {'id': 80, 'n...</td>\n",
       "    </tr>\n",
       "  </tbody>\n",
       "</table>\n",
       "</div>"
      ],
      "text/plain": [
       "   userId movieId  rating              title  \\\n",
       "0       1      16     4.0      The Contender   \n",
       "1       1      24     1.5    Forbidden Games   \n",
       "2       1     110     4.0  Three Colors: Red   \n",
       "3       1     150     3.0     Super Troopers   \n",
       "4       1     161     4.0    Murder by Death   \n",
       "\n",
       "                                              genres  \n",
       "0  [{'id': 18, 'name': 'Drama'}, {'id': 80, 'name...  \n",
       "1  [{'id': 28, 'name': 'Action'}, {'id': 80, 'nam...  \n",
       "2  [{'id': 18, 'name': 'Drama'}, {'id': 9648, 'na...  \n",
       "3  [{'id': 53, 'name': 'Thriller'}, {'id': 28, 'n...  \n",
       "4  [{'id': 53, 'name': 'Thriller'}, {'id': 80, 'n...  "
      ]
     },
     "execution_count": 18,
     "metadata": {},
     "output_type": "execute_result"
    }
   ],
   "source": [
    "# Merge cleaned datasets\n",
    "merged_df = pd.merge(ratings_df, movies_df, on='movieId')\n",
    "merged_df.head()"
   ]
  },
  {
   "cell_type": "code",
   "execution_count": 19,
   "id": "90465d21-8199-4a39-b86b-9c90d072826b",
   "metadata": {},
   "outputs": [
    {
     "name": "stdout",
     "output_type": "stream",
     "text": [
      "<class 'pandas.core.frame.DataFrame'>\n",
      "RangeIndex: 46220 entries, 0 to 46219\n",
      "Data columns (total 5 columns):\n",
      " #   Column   Non-Null Count  Dtype  \n",
      "---  ------   --------------  -----  \n",
      " 0   userId   46220 non-null  int64  \n",
      " 1   movieId  46220 non-null  object \n",
      " 2   rating   46220 non-null  float64\n",
      " 3   title    46220 non-null  object \n",
      " 4   genres   46220 non-null  object \n",
      "dtypes: float64(1), int64(1), object(3)\n",
      "memory usage: 1.8+ MB\n"
     ]
    }
   ],
   "source": [
    "merged_df.info()"
   ]
  },
  {
   "cell_type": "code",
   "execution_count": 20,
   "id": "e48132f2-7d18-4687-ad62-7cbb93edf477",
   "metadata": {},
   "outputs": [
    {
     "name": "stdout",
     "output_type": "stream",
     "text": [
      "Duplicate entries in ratings dataset:\n",
      "Empty DataFrame\n",
      "Columns: [userId, movieId, rating, title, genres]\n",
      "Index: []\n"
     ]
    }
   ],
   "source": [
    "duplicates_merg = merged_df[merged_df.duplicated(keep=False)]\n",
    "print(\"Duplicate entries in ratings dataset:\")\n",
    "print(duplicates_merg)"
   ]
  },
  {
   "cell_type": "code",
   "execution_count": 21,
   "id": "e6f0506b-1bf7-45b2-a329-ea82933d3771",
   "metadata": {},
   "outputs": [
    {
     "name": "stdout",
     "output_type": "stream",
     "text": [
      "\n",
      "Remaining duplicate entries after cleaning:\n",
      "No remaining duplicates found.\n"
     ]
    }
   ],
   "source": [
    "# Remove duplicates from the merged_df DataFrame\n",
    "merged_df_cleaned = merged_df.drop_duplicates()\n",
    "\n",
    "# Check for any remaining duplicates\n",
    "remaining_duplicates = merged_df_cleaned[merged_df_cleaned.duplicated(keep=False)]\n",
    "\n",
    "# Print the results\n",
    "print(\"\\nRemaining duplicate entries after cleaning:\")\n",
    "if remaining_duplicates.empty:\n",
    "    print(\"No remaining duplicates found.\")\n",
    "else:\n",
    "    print(remaining_duplicates)\n"
   ]
  },
  {
   "cell_type": "markdown",
   "id": "5c3dde22-37ae-4972-a77d-9ea0e8b857e7",
   "metadata": {},
   "source": [
    "## 05. Calculate Item-Based Similarity Using Pearson Correlation:"
   ]
  },
  {
   "cell_type": "markdown",
   "id": "39798d78-d936-484a-be7b-e08865493823",
   "metadata": {},
   "source": [
    "### - User-Movie Ratings Matrix\n",
    "A user-movie ratings matrix was created, representing users as rows and movies as columns, with ratings as the values. Missing ratings were filled with zeros to facilitate similarity calculations."
   ]
  },
  {
   "cell_type": "code",
   "execution_count": 24,
   "id": "716695d0-2e2a-4fe8-841f-06be72e1d3b1",
   "metadata": {},
   "outputs": [],
   "source": [
    "subset_users = merged_df_cleaned['userId']\n",
    "subset_df = merged_df_cleaned[merged_df_cleaned['userId'].isin(subset_users)]\n",
    "\n",
    "# Create a pivot table with users as rows and movies as columns\n",
    "user_movie_ratings = subset_df.pivot(index='userId', columns='movieId', values='rating')\n",
    "# Fill NaN values with 0 \n",
    "user_movie_ratings.fillna(0, inplace=True)"
   ]
  },
  {
   "cell_type": "code",
   "execution_count": 25,
   "id": "780440b0-8e93-49b7-b5e9-d65d8f03fd4c",
   "metadata": {},
   "outputs": [
    {
     "data": {
      "text/html": [
       "<div>\n",
       "<style scoped>\n",
       "    .dataframe tbody tr th:only-of-type {\n",
       "        vertical-align: middle;\n",
       "    }\n",
       "\n",
       "    .dataframe tbody tr th {\n",
       "        vertical-align: top;\n",
       "    }\n",
       "\n",
       "    .dataframe thead th {\n",
       "        text-align: right;\n",
       "    }\n",
       "</style>\n",
       "<table border=\"1\" class=\"dataframe\">\n",
       "  <thead>\n",
       "    <tr style=\"text-align: right;\">\n",
       "      <th>movieId</th>\n",
       "      <th>100</th>\n",
       "      <th>101</th>\n",
       "      <th>101362</th>\n",
       "      <th>1018</th>\n",
       "      <th>101904</th>\n",
       "      <th>102</th>\n",
       "      <th>1023</th>\n",
       "      <th>1024</th>\n",
       "      <th>103</th>\n",
       "      <th>103210</th>\n",
       "      <th>...</th>\n",
       "      <th>988</th>\n",
       "      <th>990</th>\n",
       "      <th>991</th>\n",
       "      <th>99106</th>\n",
       "      <th>993</th>\n",
       "      <th>994</th>\n",
       "      <th>99495</th>\n",
       "      <th>996</th>\n",
       "      <th>99859</th>\n",
       "      <th>99861</th>\n",
       "    </tr>\n",
       "    <tr>\n",
       "      <th>userId</th>\n",
       "      <th></th>\n",
       "      <th></th>\n",
       "      <th></th>\n",
       "      <th></th>\n",
       "      <th></th>\n",
       "      <th></th>\n",
       "      <th></th>\n",
       "      <th></th>\n",
       "      <th></th>\n",
       "      <th></th>\n",
       "      <th></th>\n",
       "      <th></th>\n",
       "      <th></th>\n",
       "      <th></th>\n",
       "      <th></th>\n",
       "      <th></th>\n",
       "      <th></th>\n",
       "      <th></th>\n",
       "      <th></th>\n",
       "      <th></th>\n",
       "      <th></th>\n",
       "    </tr>\n",
       "  </thead>\n",
       "  <tbody>\n",
       "    <tr>\n",
       "      <th>1</th>\n",
       "      <td>0.0</td>\n",
       "      <td>0.0</td>\n",
       "      <td>0.0</td>\n",
       "      <td>0.0</td>\n",
       "      <td>0.0</td>\n",
       "      <td>0.0</td>\n",
       "      <td>0.0</td>\n",
       "      <td>0.0</td>\n",
       "      <td>0.0</td>\n",
       "      <td>0.0</td>\n",
       "      <td>...</td>\n",
       "      <td>0.0</td>\n",
       "      <td>0.0</td>\n",
       "      <td>0.0</td>\n",
       "      <td>0.0</td>\n",
       "      <td>0.0</td>\n",
       "      <td>0.0</td>\n",
       "      <td>0.0</td>\n",
       "      <td>0.0</td>\n",
       "      <td>0.0</td>\n",
       "      <td>0.0</td>\n",
       "    </tr>\n",
       "    <tr>\n",
       "      <th>2</th>\n",
       "      <td>0.0</td>\n",
       "      <td>0.0</td>\n",
       "      <td>0.0</td>\n",
       "      <td>0.0</td>\n",
       "      <td>0.0</td>\n",
       "      <td>0.0</td>\n",
       "      <td>0.0</td>\n",
       "      <td>0.0</td>\n",
       "      <td>0.0</td>\n",
       "      <td>0.0</td>\n",
       "      <td>...</td>\n",
       "      <td>0.0</td>\n",
       "      <td>0.0</td>\n",
       "      <td>0.0</td>\n",
       "      <td>0.0</td>\n",
       "      <td>0.0</td>\n",
       "      <td>0.0</td>\n",
       "      <td>0.0</td>\n",
       "      <td>0.0</td>\n",
       "      <td>0.0</td>\n",
       "      <td>0.0</td>\n",
       "    </tr>\n",
       "    <tr>\n",
       "      <th>3</th>\n",
       "      <td>0.0</td>\n",
       "      <td>0.0</td>\n",
       "      <td>0.0</td>\n",
       "      <td>0.0</td>\n",
       "      <td>0.0</td>\n",
       "      <td>0.0</td>\n",
       "      <td>0.0</td>\n",
       "      <td>0.0</td>\n",
       "      <td>0.0</td>\n",
       "      <td>0.0</td>\n",
       "      <td>...</td>\n",
       "      <td>0.0</td>\n",
       "      <td>0.0</td>\n",
       "      <td>0.0</td>\n",
       "      <td>0.0</td>\n",
       "      <td>0.0</td>\n",
       "      <td>0.0</td>\n",
       "      <td>0.0</td>\n",
       "      <td>0.0</td>\n",
       "      <td>0.0</td>\n",
       "      <td>0.0</td>\n",
       "    </tr>\n",
       "    <tr>\n",
       "      <th>4</th>\n",
       "      <td>0.0</td>\n",
       "      <td>0.0</td>\n",
       "      <td>0.0</td>\n",
       "      <td>0.0</td>\n",
       "      <td>0.0</td>\n",
       "      <td>0.0</td>\n",
       "      <td>0.0</td>\n",
       "      <td>0.0</td>\n",
       "      <td>0.0</td>\n",
       "      <td>0.0</td>\n",
       "      <td>...</td>\n",
       "      <td>0.0</td>\n",
       "      <td>0.0</td>\n",
       "      <td>0.0</td>\n",
       "      <td>0.0</td>\n",
       "      <td>0.0</td>\n",
       "      <td>0.0</td>\n",
       "      <td>0.0</td>\n",
       "      <td>0.0</td>\n",
       "      <td>0.0</td>\n",
       "      <td>0.0</td>\n",
       "    </tr>\n",
       "    <tr>\n",
       "      <th>5</th>\n",
       "      <td>0.0</td>\n",
       "      <td>0.0</td>\n",
       "      <td>0.0</td>\n",
       "      <td>0.0</td>\n",
       "      <td>0.0</td>\n",
       "      <td>0.0</td>\n",
       "      <td>0.0</td>\n",
       "      <td>0.0</td>\n",
       "      <td>0.0</td>\n",
       "      <td>0.0</td>\n",
       "      <td>...</td>\n",
       "      <td>0.0</td>\n",
       "      <td>0.0</td>\n",
       "      <td>0.0</td>\n",
       "      <td>0.0</td>\n",
       "      <td>0.0</td>\n",
       "      <td>0.0</td>\n",
       "      <td>0.0</td>\n",
       "      <td>0.0</td>\n",
       "      <td>0.0</td>\n",
       "      <td>0.0</td>\n",
       "    </tr>\n",
       "  </tbody>\n",
       "</table>\n",
       "<p>5 rows × 3097 columns</p>\n",
       "</div>"
      ],
      "text/plain": [
       "movieId  100  101  101362  1018  101904  102  1023  1024  103  103210  ...  \\\n",
       "userId                                                                 ...   \n",
       "1        0.0  0.0     0.0   0.0     0.0  0.0   0.0   0.0  0.0     0.0  ...   \n",
       "2        0.0  0.0     0.0   0.0     0.0  0.0   0.0   0.0  0.0     0.0  ...   \n",
       "3        0.0  0.0     0.0   0.0     0.0  0.0   0.0   0.0  0.0     0.0  ...   \n",
       "4        0.0  0.0     0.0   0.0     0.0  0.0   0.0   0.0  0.0     0.0  ...   \n",
       "5        0.0  0.0     0.0   0.0     0.0  0.0   0.0   0.0  0.0     0.0  ...   \n",
       "\n",
       "movieId  988  990  991  99106  993  994  99495  996  99859  99861  \n",
       "userId                                                             \n",
       "1        0.0  0.0  0.0    0.0  0.0  0.0    0.0  0.0    0.0    0.0  \n",
       "2        0.0  0.0  0.0    0.0  0.0  0.0    0.0  0.0    0.0    0.0  \n",
       "3        0.0  0.0  0.0    0.0  0.0  0.0    0.0  0.0    0.0    0.0  \n",
       "4        0.0  0.0  0.0    0.0  0.0  0.0    0.0  0.0    0.0    0.0  \n",
       "5        0.0  0.0  0.0    0.0  0.0  0.0    0.0  0.0    0.0    0.0  \n",
       "\n",
       "[5 rows x 3097 columns]"
      ]
     },
     "execution_count": 25,
     "metadata": {},
     "output_type": "execute_result"
    }
   ],
   "source": [
    "user_movie_ratings.head()"
   ]
  },
  {
   "cell_type": "markdown",
   "id": "0e597c11-96b9-41d1-ab87-ea720c506fab",
   "metadata": {},
   "source": [
    "### - Similarity Calculation\n",
    "An item similarity matrix was computed using Pearson correlation to quantify the similarity between movies based on user ratings. This matrix serves as the foundation for generating movie recommendations."
   ]
  },
  {
   "cell_type": "code",
   "execution_count": 27,
   "id": "16eed0cd-8a02-4da4-b646-d4b29a7ae420",
   "metadata": {},
   "outputs": [
    {
     "name": "stdout",
     "output_type": "stream",
     "text": [
      "movieId       100       101    101362      1018    101904       102      1023  \\\n",
      "movieId                                                                         \n",
      "100      1.000000  0.114503  0.217867 -0.010671 -0.005364  0.109693 -0.017893   \n",
      "101      0.114503  1.000000  0.051013  0.143109 -0.006614 -0.016150 -0.022064   \n",
      "101362   0.217867  0.051013  1.000000 -0.005037  0.737463  0.061744 -0.008447   \n",
      "1018    -0.010671  0.143109 -0.005037  1.000000 -0.002983 -0.007283 -0.009950   \n",
      "101904  -0.005364 -0.006614  0.737463 -0.002983  1.000000 -0.003661 -0.005001   \n",
      "...           ...       ...       ...       ...       ...       ...       ...   \n",
      "994      0.378917  0.166087  0.152680 -0.014897 -0.007488  0.001196 -0.024979   \n",
      "99495    0.233506  0.140662  0.420322 -0.002983 -0.001499 -0.003661 -0.005001   \n",
      "996      0.145651  0.131332  0.124811  0.125951  0.179270  0.193557  0.030732   \n",
      "99859   -0.005364 -0.006614 -0.002532 -0.002983 -0.001499 -0.003661 -0.005001   \n",
      "99861   -0.005364 -0.006614 -0.002532 -0.002983 -0.001499 -0.003661 -0.005001   \n",
      "\n",
      "movieId      1024       103    103210  ...       988       990       991  \\\n",
      "movieId                                ...                                 \n",
      "100     -0.012820  0.435401 -0.005364  ...  0.313129  0.155760  0.486874   \n",
      "101     -0.015808  0.137406 -0.006614  ... -0.006614 -0.018954  0.066908   \n",
      "101362  -0.006052 -0.006042 -0.002532  ... -0.002532  0.155033  0.196927   \n",
      "1018    -0.007129 -0.007117 -0.002983  ... -0.002983 -0.008547 -0.012979   \n",
      "101904  -0.003583 -0.003578 -0.001499  ... -0.001499 -0.004296 -0.006524   \n",
      "...           ...       ...       ...  ...       ...       ...       ...   \n",
      "994     -0.017896  0.130516 -0.007488  ...  0.144085  0.071619  0.277618   \n",
      "99495   -0.003583 -0.003578 -0.001499  ... -0.001499 -0.004296  0.262114   \n",
      "996     -0.019245  0.139607 -0.008052  ...  0.206030  0.322013  0.228158   \n",
      "99859   -0.003583 -0.003578 -0.001499  ... -0.001499 -0.004296 -0.006524   \n",
      "99861   -0.003583 -0.003578 -0.001499  ... -0.001499 -0.004296 -0.006524   \n",
      "\n",
      "movieId     99106       993       994     99495       996     99859     99861  \n",
      "movieId                                                                        \n",
      "100     -0.005364  0.135910  0.378917  0.233506  0.145651 -0.005364 -0.005364  \n",
      "101     -0.006614 -0.009267  0.166087  0.140662  0.131332 -0.006614 -0.006614  \n",
      "101362  -0.002532 -0.003547  0.152680  0.420322  0.124811 -0.002532 -0.002532  \n",
      "1018    -0.002983 -0.004179 -0.014897 -0.002983  0.125951 -0.002983 -0.002983  \n",
      "101904  -0.001499 -0.002100 -0.007488 -0.001499  0.179270 -0.001499 -0.001499  \n",
      "...           ...       ...       ...       ...       ...       ...       ...  \n",
      "994     -0.007488  0.110855  1.000000  0.194610  0.062386  0.144085  0.144085  \n",
      "99495   -0.001499 -0.002100  0.194610  1.000000 -0.008052 -0.001499 -0.001499  \n",
      "996     -0.008052 -0.011281  0.062386 -0.008052  1.000000  0.098989  0.098989  \n",
      "99859   -0.001499 -0.002100  0.144085 -0.001499  0.098989  1.000000  1.000000  \n",
      "99861   -0.001499 -0.002100  0.144085 -0.001499  0.098989  1.000000  1.000000  \n",
      "\n",
      "[3097 rows x 3097 columns]\n"
     ]
    }
   ],
   "source": [
    "# Calculate the Pearson correlation matrix item-based\n",
    "item_similarity = user_movie_ratings.corr(method='pearson')\n",
    "print(item_similarity)"
   ]
  },
  {
   "cell_type": "code",
   "execution_count": 28,
   "id": "fcd82d7e-2f07-4b17-a24a-03098938d757",
   "metadata": {},
   "outputs": [
    {
     "data": {
      "text/plain": [
       "(3097, 3097)"
      ]
     },
     "execution_count": 28,
     "metadata": {},
     "output_type": "execute_result"
    }
   ],
   "source": [
    "item_similarity.shape"
   ]
  },
  {
   "cell_type": "markdown",
   "id": "c88495d5-9235-4f10-9aca-f0329cef554a",
   "metadata": {},
   "source": [
    "## 06. Recommendation Engine: \n",
    "The recommendation system is designed to provide personalized movie recommendations based on user input. The main functionalities include:\n",
    "1. **Retrieving Movie ID:** The system checks if the user-input movie title exists in the dataset and retrieves the corresponding movie ID.\n",
    "2.**Checking Similarity:** The system ensures that the retrieved movie ID exists in the item similarity matrix before proceeding.\n",
    "3. **Calculating Similar Movies:** Using the item similarity matrix, the system identifies movies that are similar to the input movie, sorting them by their similarity scores.\n",
    "4. **Visualizing Similarity Scores:** The correlation scores for the recommended movies are visualized through a bar plot, enhancing user understanding of the recommendations.\n",
    "5. **Returning Recommendations:** The system generates and presents a list of recommended movie titles to the user."
   ]
  },
  {
   "cell_type": "code",
   "execution_count": 30,
   "id": "060bae43-7640-4679-a6df-e53f201e5511",
   "metadata": {},
   "outputs": [],
   "source": [
    "# Function to get movie recommendations using the item similarity matrix\n",
    "def recommend_movies(movie_title, movies, item_similarity, num_recommendations=8):\n",
    "    # Get the movie_id for the user input movie_title\n",
    "    movie_id_series = movies[movies['title'] == movie_title]['movieId']\n",
    "    \n",
    "    if movie_id_series.empty:\n",
    "        print(\"Movie title not found.\")  \n",
    "        return []  \n",
    "\n",
    "    movie_id = movie_id_series.values[0]  \n",
    "\n",
    "    # Check if the movie_id exists in the item similarity index\n",
    "    if movie_id not in item_similarity.index:\n",
    "        print(f\"Movie ID {movie_id} not found in item similarity matrix.\")\n",
    "        return []\n",
    "\n",
    "    # Get similar movies based on the item similarity score\n",
    "    similar_movies = item_similarity[movie_id].sort_values(ascending=False)\n",
    "    \n",
    "    # Get the top 'num_recommendations' movie_id\n",
    "    top_movies = similar_movies.index[1:num_recommendations + 1] \n",
    "    \n",
    "    # Get the movie_titles of the recommended movies by filtering movie_title by recommended movie_id\n",
    "    recommended_titles = movies[movies['movieId'].isin(top_movies)]['title']\n",
    "    \n",
    "    # Plot the correlation scores\n",
    "    plt.figure(figsize=(10, 6))\n",
    "    plt.barh(recommended_titles, similar_movies[top_movies])\n",
    "    plt.xlabel('Correlation Score')\n",
    "    plt.title(f'Correlation Scores for Movies Similar to \\\"{movie_title}\\\"')\n",
    "    plt.show()\n",
    "    \n",
    "    return recommended_titles.tolist()"
   ]
  },
  {
   "cell_type": "markdown",
   "id": "6272319c-5fa9-493d-a36a-56d60c744e9f",
   "metadata": {},
   "source": [
    "## 07. User Interaction:\n",
    "The system prompts users to input the title of a movie they have watched. If the movie exists in the dataset, the system generates a list of recommended movies. In cases where the movie title is not found, the user is advised to check the title and try again."
   ]
  },
  {
   "cell_type": "code",
   "execution_count": 32,
   "id": "22a2922d-d6ad-40ed-b979-1b2bda69571a",
   "metadata": {},
   "outputs": [
    {
     "name": "stdin",
     "output_type": "stream",
     "text": [
      "Enter a movie you have watched:  Strangers with Candy\n"
     ]
    }
   ],
   "source": [
    "# Get the movie name user has watched\n",
    "user_input = input(\"Enter a movie you have watched: \")  "
   ]
  },
  {
   "cell_type": "code",
   "execution_count": 33,
   "id": "39999e2a-0733-4971-88a8-7f51fd04aafe",
   "metadata": {},
   "outputs": [
    {
     "data": {
      "image/png": "[encoded data removed]",
      "text/plain": [
       "<Figure size 1000x600 with 1 Axes>"
      ]
     },
     "metadata": {},
     "output_type": "display_data"
    },
    {
     "name": "stdout",
     "output_type": "stream",
     "text": [
      "\n",
      "Recommended movies:\n",
      "- Star Wars\n",
      "- Golden Earrings\n",
      "- Meet John Doe\n",
      "- The Godfather: Part II\n",
      "- The Money Pit\n",
      "- Titus\n",
      "- The Muppets Take Manhattan\n",
      "- Friendly Persuasion\n",
      "- Don't Go in the House\n",
      "- My Mother's Castle\n"
     ]
    }
   ],
   "source": [
    "# Check if the movie exists \n",
    "if user_input in movies_df['title'].values:\n",
    "    recommended = recommend_movies(user_input, movies_df, item_similarity, num_recommendations=10)\n",
    "    if recommended:\n",
    "        print(\"\\nRecommended movies:\")\n",
    "        for movie in recommended:\n",
    "            print(f\"- {movie}\") \n",
    "else:\n",
    "    print(\"Sorry, the movie you entered is not in the dataset. Please check the title and try again.\")"
   ]
  },
  {
   "cell_type": "markdown",
   "id": "2e25ffac-aecc-4506-a0f4-f95d30a27e65",
   "metadata": {},
   "source": [
    "## Conclusion:\n",
    "The Movie Recommendation System successfully implements user-based collaborative filtering and item-based similarity calculations using Pearson correlation. It provides personalized movie recommendations based on user input while also visualizing the correlation scores for clarity."
   ]
  },
  {
   "cell_type": "code",
   "execution_count": null,
   "id": "f88dbabc-5492-4b2b-8904-be3b9d6c50d8",
   "metadata": {},
   "outputs": [],
   "source": []
  }
 ],
 "metadata": {
  "kernelspec": {
   "display_name": "Python 3 (ipykernel)",
   "language": "python",
   "name": "python3"
  },
  "language_info": {
   "codemirror_mode": {
    "name": "ipython",
    "version": 3
   },
   "file_extension": ".py",
   "mimetype": "text/x-python",
   "name": "python",
   "nbconvert_exporter": "python",
   "pygments_lexer": "ipython3",
   "version": "3.12.4"
  }
 },
 "nbformat": 4,
 "nbformat_minor": 5
}
